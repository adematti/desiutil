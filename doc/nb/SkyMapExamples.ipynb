{
 "cells": [
  {
   "cell_type": "markdown",
   "metadata": {},
   "source": [
    "# All-Sky Plot Utilities\n",
    "\n",
    "This notebook provides a user's guide to functions in `desiutil.plots` for producing all-sky plots. Refer to the docstring for each function for details on its parameters and usage. Operations involving healpix maps require that the `healpy` package is installed (not available via conda, so use `pip` instead)."
   ]
  },
  {
   "cell_type": "code",
   "execution_count": null,
   "metadata": {
    "collapsed": false,
    "jupyter": {
     "outputs_hidden": false
    }
   },
   "outputs": [],
   "source": [
    "%matplotlib inline\n",
    "import warnings\n",
    "from types import MethodType\n",
    "import numpy as np\n",
    "import numpy.ma\n",
    "import matplotlib.pyplot as plt\n",
    "import matplotlib.colors\n",
    "from matplotlib.projections import get_projection_names\n",
    "from astropy.coordinates import SkyCoord, HeliocentricTrueEcliptic, ICRS, SkyOffsetFrame, Longitude\n",
    "import astropy.units as u"
   ]
  },
  {
   "cell_type": "code",
   "execution_count": null,
   "metadata": {
    "collapsed": false,
    "jupyter": {
     "outputs_hidden": false
    }
   },
   "outputs": [],
   "source": [
    "from desiutil.plots import prepare_data, init_sky"
   ]
  },
  {
   "cell_type": "code",
   "execution_count": null,
   "metadata": {},
   "outputs": [],
   "source": [
    "def plot_grid_map(data, ra_edges, dec_edges, cmap='viridis', colorbar=True,\n",
    "                  label=None, ax=None, center=None):\n",
    "    \"\"\"Plot an array of 2D values using an all-sky projection.\n",
    "\n",
    "    Pass the data array through :func:`prepare_data` to select a subset to plot\n",
    "    and clip the color map to specified values or percentiles.\n",
    "\n",
    "    This function is similar to :func:`plot_healpix_map` but is generally faster\n",
    "    and has better handling of RA wrap around artifacts.\n",
    "\n",
    "    Parameters\n",
    "    ----------\n",
    "    data : array or masked array\n",
    "        2D array of data associated with each grid cell, with shape\n",
    "        ``(n_ra, n_dec)``. Use the output of :func:`prepare_data` as a convenient\n",
    "        way to specify data cuts and color map clipping.\n",
    "    ra_edges : array\n",
    "        1D array of ``n_ra+1`` RA grid edge values in degrees, which must span the\n",
    "        full circle, *i.e.*, ``ra_edges[0] == ra_edges[-1] - 360``. The RA grid\n",
    "        does not need to match the edges of the projection, in which\n",
    "        case any wrap-around cells will be duplicated on both edges.\n",
    "    dec_edges : array\n",
    "        1D array of ``n_dec+1`` Dec grid edge values in degrees.  Values are not\n",
    "        required to span the full range ``[-90, +90]``.\n",
    "    cmap : colormap name or object, optional\n",
    "        Matplotlib colormap to use for mapping data values to colors.\n",
    "    colorbar : bool, optional\n",
    "        Draw a colorbar below the map when ``True``.\n",
    "    label : str, optional\n",
    "        Label to display under the colorbar.  Ignored unless colorbar is ``True``.\n",
    "    ax : :class:`~matplotlib.axes.Axes`, optional\n",
    "        Axes to use for drawing this map, or create default axes using\n",
    "        :func:`init_sky` when ``None``.\n",
    "\n",
    "    Returns\n",
    "    -------\n",
    "    :class:`~matplotlib.axes.Axes`\n",
    "        The axis object used for the plot.\n",
    "    \"\"\"\n",
    "    data = prepare_data(data)\n",
    "    if len(data.shape) != 2:\n",
    "        raise ValueError('Expected 2D data array.')\n",
    "    n_dec, n_ra = data.shape\n",
    "    #\n",
    "    # Normalize the data using its vmin, vmax attributes, if present.\n",
    "    # Need to do this before hstack-ing below, which drops vmin, vmax.\n",
    "    #\n",
    "    try:\n",
    "        norm = matplotlib.colors.Normalize(vmin=data.vmin, vmax=data.vmax)\n",
    "    except AttributeError:\n",
    "        norm = None\n",
    "    #\n",
    "    # Silently flatten, sort, and remove duplicates from the edges arrays.\n",
    "    #\n",
    "    ra_edges = np.unique(ra_edges)\n",
    "    dec_edges = np.unique(dec_edges)\n",
    "    if len(ra_edges) != n_ra + 1:\n",
    "        raise ValueError('Invalid ra_edges.')\n",
    "    if len(dec_edges) != n_dec + 1:\n",
    "        raise ValueError('Invalid dec_edges.')\n",
    "    if ra_edges[0] != ra_edges[-1] - 360:\n",
    "        raise ValueError('Invalid ra_edges, do not span 360 degrees.')\n",
    "    #\n",
    "    # Create axes.\n",
    "    #\n",
    "    if ax is None:\n",
    "        ax = init_sky()\n",
    "    #\n",
    "    # Find the projection edge.\n",
    "    #\n",
    "    proj_edge = (ax._ra_center - Longitude(180.0*u.deg)).degree\n",
    "    while proj_edge < 360:\n",
    "        proj_edge += 360\n",
    "    #\n",
    "    # Shift RA gridlines so they overlap the map's left-edge RA.\n",
    "    #\n",
    "    while ra_edges[0] > lonmin:\n",
    "        ra_edges -= 360\n",
    "    while ra_edges[0] <= lonmin - 360:\n",
    "        ra_edges += 360\n",
    "    #\n",
    "    # Find the first RA gridline that fits within the map's left edge.\n",
    "    #\n",
    "    first = np.where(ra_edges >= lonmin)[0][0]\n",
    "\n",
    "    if first > 0:\n",
    "        # Wrap the data beyond the left edge around to the right edge.\n",
    "        # Remember to use numpy.ma.hstack for the data to preserve the mask.\n",
    "        if ra_edges[first] > lonmin:\n",
    "            # Split a wrap-around column into separate left and right columns.\n",
    "            ra_edges = np.hstack(([lonmin], ra_edges[first:],\n",
    "                                  ra_edges[:first] + 360, [lonmax]))\n",
    "            data = numpy.ma.hstack(\n",
    "                (data[:, first - 1:first], data[:, first:],\n",
    "                 data[:, :first], data[:, first:first + 1]))\n",
    "        else:\n",
    "            ra_edges = np.hstack((ra_edges[first:], ra_edges[:first + 1] + 360))\n",
    "            data = numpy.ma.hstack((data[:, first:], data[:, :first + 1]))\n",
    "\n",
    "    # Build a 2D array of grid line intersections.\n",
    "    grid_ra, grid_dec = np.meshgrid(ra_edges, dec_edges)\n",
    "\n",
    "    # print(grid_ra, grid_dec)\n",
    "    mesh = ax.pcolormesh(\n",
    "        -1.0*np.radians(grid_ra), np.radians(grid_dec), data, cmap=cmap, norm=norm,\n",
    "        edgecolor='none', lw=0)\n",
    "\n",
    "    if colorbar:\n",
    "        bar = plt.colorbar(\n",
    "            mesh, ax=ax, orientation='horizontal',\n",
    "            spacing='proportional', pad=0.01, aspect=50)\n",
    "        if label:\n",
    "            bar.set_label(label)\n",
    "\n",
    "    return ax\n"
   ]
  },
  {
   "cell_type": "markdown",
   "metadata": {},
   "source": [
    "A set of familiar stars."
   ]
  },
  {
   "cell_type": "code",
   "execution_count": null,
   "metadata": {},
   "outputs": [],
   "source": [
    "stars = ICRS(['05h14m32.27s', '05h55m10.29s', '05h25m07.87s', '05h36m12.81s', '05h40m45.52s', '05h47m45.39s', '05h32m00.40s',\n",
    "              '06h45m09.25s', '06h58m37.55s', '07h08m23.49s', '06h22m41.99s', '07h24m05.71s',\n",
    "              '02h31m47.08s', '14h50m42.40s', '15h20m43.75s', '16h45m58.16s', '15h44m03.46s', '17h32m12.90s', '16h17m30.50s',\n",
    "              '12h54m01.63s', '11h03m43.84s', '13h47m32.55s', '13h23m55.54s', '11h01m50.39s', '11h53m49.74s', '12h15m25.45s',],\n",
    "             ['−08d12m05.9s', '+07d24m25.3s', '+06d20m59.0s', '−01d12m06.9s', '−01d56m33.3s', '−09d40m10.6s', '−00d17m56.7s',\n",
    "              '-16d42m47.3s', '-28d58m19.5s', '−26d23m35.5s', '−17d57m21.3s', '−29d18m11.2s',\n",
    "              '+89d15m50.9s', '+74d09m19.7s', '+71d50m02.3s', '+82d02m14.1s', '+77d47m40.2s', '+86d35m10.8s', '+75d45m16.9s',\n",
    "              '+55d57m35.4s', '+61d45m04.0s', '+49d18m47.9s', '+54d55m31.3s', '+56d22m56.4s', '+53d41m41.0s', '+57d01m57.4s'])"
   ]
  },
  {
   "cell_type": "markdown",
   "metadata": {},
   "source": [
    "Use `init_sky()` to prepare the default [Mollweide](http://usersguidetotheuniverse.com/index.php/2011/03/03/whats-the-best-map-projection/) all-sky projection, which can then be used for other operations like any other axes object:"
   ]
  },
  {
   "cell_type": "code",
   "execution_count": null,
   "metadata": {},
   "outputs": [],
   "source": [
    "ax = init_sky()\n",
    "p = ax.scatter(ax.projection_ra(stars.ra.degree), ax.projection_dec(stars.dec.degree), marker='.', color='black')"
   ]
  },
  {
   "cell_type": "markdown",
   "metadata": {},
   "source": [
    "By default, the map is oriented so the DESI footprint does not wrap around in RA and shows the galactic plane in red, but you can change most of this with options:"
   ]
  },
  {
   "cell_type": "code",
   "execution_count": null,
   "metadata": {
    "collapsed": false,
    "jupyter": {
     "outputs_hidden": false
    }
   },
   "outputs": [],
   "source": [
    "ax = init_sky(projection='hammer', ra_center=0, galactic_plane_color=None)\n",
    "p = ax.scatter(ax.projection_ra(stars.ra.degree), ax.projection_dec(stars.dec.degree), marker='.', color='black')"
   ]
  },
  {
   "cell_type": "markdown",
   "metadata": {},
   "source": [
    "To see the available projections, use `matplotlib.projections.get_projection_names()`.  The code in this package will probably work best with `'mollweide'`, `'hammer'` or `'aitoff'`, where `'mollweide'` is the default."
   ]
  },
  {
   "cell_type": "code",
   "execution_count": null,
   "metadata": {},
   "outputs": [],
   "source": [
    "get_projection_names()"
   ]
  },
  {
   "cell_type": "markdown",
   "metadata": {},
   "source": [
    "## Map Plotting"
   ]
  },
  {
   "cell_type": "markdown",
   "metadata": {},
   "source": [
    "This section describes two methods that interpret an array of values as a map on the sphere and create a corresponding plot.  If you have a list of (RA, Dec) coordinates that you wish to plot, instead of a map, refer to the next section on catalog plotting.\n",
    "\n",
    "Use `plot_grid_map()` to map a 2D array of values tabulated on a grid of RA and DEC values, with RA indexed by the first index.  In addition to the grid values, the grid edges must also be specified. Since values are associated with the cells between grid lines, a grid with dimensions `[nRA, nDec]` has corresponding edge arrays of length `nRA+1` and `nDec+1`. The grid must wrap around the sphere in RA but does not need to cover the full range of Dec.  The grid can be chosen independently of the central RA of the map projection and any wrap-around grid column will be split automatically."
   ]
  },
  {
   "cell_type": "code",
   "execution_count": null,
   "metadata": {
    "collapsed": false,
    "jupyter": {
     "outputs_hidden": false
    }
   },
   "outputs": [],
   "source": [
    "n_ra, n_dec = 15, 10\n",
    "ra_edges = np.linspace(0., 360., n_ra + 1)\n",
    "dec_edges = np.linspace(-60., 60., n_dec + 1)\n",
    "data = np.random.uniform(size=(n_dec, n_ra))\n",
    "ax = plot_grid_map(data, ra_edges, dec_edges);"
   ]
  },
  {
   "cell_type": "markdown",
   "metadata": {},
   "source": [
    "Use `plot_map_healpix()` to map a 1D array of values associated with a healpix map. The array size must exactly match the expected size for some value of the healpix `NSIDE` parameter.  Each pixel is rendered as a matplotlib polygon, so this function is somewhat slower than `plot_grid_map()` and also does not automatically wrap around pixels at the RA edges (which are not drawn at all, but this is less visible at larger values of `NSIDE`)."
   ]
  },
  {
   "cell_type": "code",
   "execution_count": null,
   "metadata": {},
   "outputs": [],
   "source": [
    "import healpy as hp"
   ]
  },
  {
   "cell_type": "code",
   "execution_count": null,
   "metadata": {
    "collapsed": false,
    "jupyter": {
     "outputs_hidden": false
    }
   },
   "outputs": [],
   "source": [
    "nside, nest = 4, False\n",
    "data = np.random.uniform(size=hp.nside2npix(nside))\n",
    "plot_healpix_map(data, nest);"
   ]
  },
  {
   "cell_type": "markdown",
   "metadata": {},
   "source": [
    "Use the `colorbar` option to suppress the default colorbar, or the `label` option to add a colorbar label."
   ]
  },
  {
   "cell_type": "markdown",
   "metadata": {},
   "source": [
    "## Catalog Plotting"
   ]
  },
  {
   "cell_type": "markdown",
   "metadata": {},
   "source": [
    "This section describes two methods for plotting a catalog of objects indexed by (RA, DEC).\n",
    "\n",
    "Use `plot_sky_circles()` to draw a circular field of view centered on each (RA, DEC). This function is useful in DESI for displaying observing tiles and the default field of view is set accordingly."
   ]
  },
  {
   "cell_type": "code",
   "execution_count": null,
   "metadata": {
    "collapsed": false,
    "jupyter": {
     "outputs_hidden": false
    }
   },
   "outputs": [],
   "source": [
    "plot_sky_circles(ra_center=[0, 60, 120, 180], dec_center=[-30, 0, 30, 60],\n",
    "                 field_of_view=30);"
   ]
  },
  {
   "cell_type": "markdown",
   "metadata": {},
   "source": [
    "Note that the projection of a circular field of view is generally not circular. Face colors can be specified for each circle independently."
   ]
  },
  {
   "cell_type": "code",
   "execution_count": null,
   "metadata": {
    "collapsed": false,
    "jupyter": {
     "outputs_hidden": false
    }
   },
   "outputs": [],
   "source": [
    "plot_sky_circles(ra_center=[0, 60, 120, 180], dec_center=[-30, 0, 30, 60],\n",
    "                 field_of_view=30, facecolors=['r', 'g', 'b', 'k']);"
   ]
  },
  {
   "cell_type": "markdown",
   "metadata": {},
   "source": [
    "Each (RA, DEC) can optionally be associated with some value that is used to determine the color of each circle."
   ]
  },
  {
   "cell_type": "code",
   "execution_count": null,
   "metadata": {
    "collapsed": false,
    "jupyter": {
     "outputs_hidden": false
    }
   },
   "outputs": [],
   "source": [
    "plot_sky_circles(ra_center=[0, 60, 120, 180], dec_center=[-30, 0, 30, 60],\n",
    "                 field_of_view=30, data=[0, 1, 2, 3], cmap='gray', edgecolor='r');"
   ]
  },
  {
   "cell_type": "markdown",
   "metadata": {},
   "source": [
    "Use `plot_sky_binned()` to automatically histogram object locations and display the resulting pixel counts per unit sky area as a map, using either the default `plot_grid_map()` or `plot_healpix_map()` (which requires that healpy is installed)."
   ]
  },
  {
   "cell_type": "code",
   "execution_count": null,
   "metadata": {
    "collapsed": false,
    "jupyter": {
     "outputs_hidden": false
    }
   },
   "outputs": [],
   "source": [
    "n = 50000\n",
    "ra = 360 * np.random.uniform(size=n)\n",
    "dec = np.clip(20 * np.random.normal(size=n), -90, +90)\n",
    "plot_sky_binned(ra, dec);"
   ]
  },
  {
   "cell_type": "code",
   "execution_count": null,
   "metadata": {
    "collapsed": false,
    "jupyter": {
     "outputs_hidden": false
    }
   },
   "outputs": [],
   "source": [
    "plot_sky_binned(ra, dec, plot_type='healpix');"
   ]
  },
  {
   "cell_type": "markdown",
   "metadata": {},
   "source": [
    "The automatic histogramming is controlled by the value (in sq.deg.) of the `max_bin_area` parameter.  The default grid map is binned in cos(DEC) and RA and aims for roughly square pixels on the sky.  Use the `verbose` option to print details of the automatic histogramming. Note that a healpix map is more constrained so will generally result in smaller pixels for the same value of `max_bin_area` (and corrrespondingly larger shot noise)."
   ]
  },
  {
   "cell_type": "code",
   "execution_count": null,
   "metadata": {
    "collapsed": false,
    "jupyter": {
     "outputs_hidden": false
    }
   },
   "outputs": [],
   "source": [
    "plot_sky_binned(ra, dec, max_bin_area=50, verbose=True);"
   ]
  },
  {
   "cell_type": "code",
   "execution_count": null,
   "metadata": {
    "collapsed": false,
    "jupyter": {
     "outputs_hidden": false
    }
   },
   "outputs": [],
   "source": [
    "plot_sky_binned(ra, dec, plot_type='healpix', max_bin_area=50, verbose=True);"
   ]
  },
  {
   "cell_type": "markdown",
   "metadata": {},
   "source": [
    "Instead of plotting object densities, you can provide an array of data associated with each object and the resulting map will display the mean data value per pixel. Note that empty bins, where the mean data is undefined, are automatically masked."
   ]
  },
  {
   "cell_type": "code",
   "execution_count": null,
   "metadata": {
    "collapsed": false,
    "jupyter": {
     "outputs_hidden": false
    }
   },
   "outputs": [],
   "source": [
    "plot_sky_binned(ra, dec, data=ra);"
   ]
  },
  {
   "cell_type": "markdown",
   "metadata": {},
   "source": [
    "## Data Preprocessing"
   ]
  },
  {
   "cell_type": "markdown",
   "metadata": {},
   "source": [
    "These plotting routines all pass the data to be displayed through `prepare_data()` in order to provide a uniform API for how plot values are masked and mapped to display colors."
   ]
  },
  {
   "cell_type": "code",
   "execution_count": null,
   "metadata": {
    "collapsed": false,
    "jupyter": {
     "outputs_hidden": false
    }
   },
   "outputs": [],
   "source": [
    "n_ra, n_dec = 15, 10\n",
    "ra_edges = np.linspace(0., 360., n_ra + 1)\n",
    "dec_edges = np.linspace(-60., 60., n_dec + 1)\n",
    "data = np.random.uniform(size=(n_dec, n_ra))\n",
    "plot_grid_map(data, ra_edges, dec_edges);"
   ]
  },
  {
   "cell_type": "markdown",
   "metadata": {},
   "source": [
    "For more control, you can call `prepare_data()` yourself before calling the map functions.  For example, you can explicitly mask some pixels in a map:"
   ]
  },
  {
   "cell_type": "code",
   "execution_count": null,
   "metadata": {
    "collapsed": false,
    "jupyter": {
     "outputs_hidden": false
    }
   },
   "outputs": [],
   "source": [
    "data2 = prepare_data(data, mask=(0.4 < data) & (data < 0.6))\n",
    "plot_grid_map(data2, ra_edges, dec_edges);"
   ]
  },
  {
   "cell_type": "markdown",
   "metadata": {},
   "source": [
    "You can also specify the clipping to apply at both ends (lo/hi) using a mixture of percentiles or absolute values."
   ]
  },
  {
   "cell_type": "code",
   "execution_count": null,
   "metadata": {
    "collapsed": false,
    "jupyter": {
     "outputs_hidden": false
    }
   },
   "outputs": [],
   "source": [
    "data2 = prepare_data(data, clip_lo='20%', clip_hi=0.8)\n",
    "plot_grid_map(data2, ra_edges, dec_edges);"
   ]
  },
  {
   "cell_type": "markdown",
   "metadata": {},
   "source": [
    "Values outside the clip range are normally displayed (after clipping) but can instead be masked by adding '!' to the clip specification. Note that quotes are optional for numeric clip values (0.8) but required when using '%' or '!'."
   ]
  },
  {
   "cell_type": "code",
   "execution_count": null,
   "metadata": {
    "collapsed": false,
    "jupyter": {
     "outputs_hidden": false
    }
   },
   "outputs": [],
   "source": [
    "data2 = prepare_data(data, clip_lo='!20%', clip_hi='!0.8')\n",
    "plot_grid_map(data2, ra_edges, dec_edges);"
   ]
  },
  {
   "cell_type": "markdown",
   "metadata": {},
   "source": [
    "If the range of clipped data is smaller than the clip limits, the tighter limits will be used for the color scale by default:"
   ]
  },
  {
   "cell_type": "code",
   "execution_count": null,
   "metadata": {
    "collapsed": false,
    "jupyter": {
     "outputs_hidden": false
    }
   },
   "outputs": [],
   "source": [
    "data2 = prepare_data(data, clip_lo=-0.5, clip_hi=1.5)\n",
    "plot_grid_map(data2, ra_edges, dec_edges);"
   ]
  },
  {
   "cell_type": "markdown",
   "metadata": {},
   "source": [
    "However, you can force the color scale to use either clip limit by passing `save_limits=True`. This is useful when making a series of plots with a consistent colorscale."
   ]
  },
  {
   "cell_type": "code",
   "execution_count": null,
   "metadata": {
    "collapsed": false,
    "jupyter": {
     "outputs_hidden": false
    }
   },
   "outputs": [],
   "source": [
    "data2 = prepare_data(data, clip_lo=-0.5, clip_hi=1.5, save_limits=True)\n",
    "plot_grid_map(data2, ra_edges, dec_edges);"
   ]
  },
  {
   "cell_type": "markdown",
   "metadata": {},
   "source": [
    "The same techniques can be used with the data passed to `plot_sky_circles()`."
   ]
  },
  {
   "cell_type": "code",
   "execution_count": null,
   "metadata": {
    "collapsed": false,
    "jupyter": {
     "outputs_hidden": false
    }
   },
   "outputs": [],
   "source": [
    "data = prepare_data([0, 1, 2, 3], mask=[False, True, False, False])\n",
    "plot_sky_circles(ra_center=[0, 60, 120, 180], dec_center=[-30, 0, 30, 60],\n",
    "                 field_of_view=30, data=data, edgecolor='k');"
   ]
  },
  {
   "cell_type": "markdown",
   "metadata": {},
   "source": [
    "The `plot_sky_binned()` function calculates the data to plot internally, but has parameters `clip_lo` and `clip_hi` that are used to prepare this data."
   ]
  },
  {
   "cell_type": "code",
   "execution_count": null,
   "metadata": {
    "collapsed": false,
    "jupyter": {
     "outputs_hidden": false
    }
   },
   "outputs": [],
   "source": [
    "plot_sky_binned(ra, dec, data=ra, clip_hi='!180');"
   ]
  }
 ],
 "metadata": {
  "kernelspec": {
   "display_name": "DESI 19.12",
   "language": "python",
   "name": "desi-19.12"
  },
  "language_info": {
   "codemirror_mode": {
    "name": "ipython",
    "version": 3
   },
   "file_extension": ".py",
   "mimetype": "text/x-python",
   "name": "python",
   "nbconvert_exporter": "python",
   "pygments_lexer": "ipython3",
   "version": "3.6.6"
  }
 },
 "nbformat": 4,
 "nbformat_minor": 4
}
